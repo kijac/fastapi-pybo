{
 "cells": [
  {
   "cell_type": "markdown",
   "id": "91d2fa5b",
   "metadata": {},
   "source": [
    "다음처럼 Question 모델 객체를 하나 생성"
   ]
  },
  {
   "cell_type": "code",
   "execution_count": 1,
   "id": "9d72a94e",
   "metadata": {},
   "outputs": [],
   "source": [
    "from model import Question, Answer\n",
    "from datetime import datetime\n",
    "q = Question(subject='pybo가 무엇인가요?', content='pybo에 대해서 알고 싶습니다.', create_date=datetime.now())"
   ]
  },
  {
   "cell_type": "markdown",
   "id": "71c089ff",
   "metadata": {},
   "source": [
    "Question 모델의 create_date 속성은 DateTime 유형이므로 datetime.now() 함수로 현재 일시를 대입했다. 하지만 객체 q를 만들었다고 해서 데이터베이스에 질문 데이터가 저장되는 것은 아니다. 데이터베이스에 데이터를 저장하려면 다음처럼 database.py 파일의 SessionLocal 클래스로 생성한 db 세션 객체를 사용해야 한다."
   ]
  },
  {
   "cell_type": "code",
   "execution_count": 2,
   "id": "f4d3bef0",
   "metadata": {},
   "outputs": [
    {
     "data": {
      "text/plain": [
       "5"
      ]
     },
     "execution_count": 2,
     "metadata": {},
     "output_type": "execute_result"
    }
   ],
   "source": [
    "from database import SessionLocal\n",
    "db = SessionLocal()\n",
    "db.add(q)\n",
    "db.commit()\n",
    "q.id"
   ]
  },
  {
   "cell_type": "markdown",
   "id": "c51c064a",
   "metadata": {},
   "source": [
    "신규 데이터를 저장할 때는 db 객체의 add 함수를 사용한 다음 commit 함수까지 실행해야 한다. db 객체는 데이터베이스와 연결된 세션, 즉 접속된 상태를 의미한다. 데이터베이스를 처리하려면 이 세션이 필요하다. 그리고 세션을 통해서 데이터를 저장, 수정, 삭제 작업을 한 다음에는 반드시 db.commit()으로 커밋을 해주어야 한다. 커밋을 해야 비로서 데이터베이스에 데이터가 저장된다."
   ]
  },
  {
   "cell_type": "code",
   "execution_count": null,
   "id": "6a15822f",
   "metadata": {},
   "outputs": [],
   "source": []
  },
  {
   "cell_type": "code",
   "execution_count": 3,
   "id": "5506e85d",
   "metadata": {},
   "outputs": [
    {
     "data": {
      "text/plain": [
       "6"
      ]
     },
     "execution_count": 3,
     "metadata": {},
     "output_type": "execute_result"
    }
   ],
   "source": [
    "q = Question(subject='FastAPI 모델 질문입니다.', content='id는 자동으로 생성되나요?', create_date=datetime.now())\n",
    "db.add(q)\n",
    "db.commit()\n",
    "q.id"
   ]
  },
  {
   "cell_type": "markdown",
   "id": "b595b1e9",
   "metadata": {},
   "source": [
    "데이터 조회하기"
   ]
  },
  {
   "cell_type": "code",
   "execution_count": 4,
   "id": "eabc9166",
   "metadata": {},
   "outputs": [
    {
     "data": {
      "text/plain": [
       "[<model.Question at 0x288789c3450>,\n",
       " <model.Question at 0x288796e9050>,\n",
       " <model.Question at 0x288796bf8d0>]"
      ]
     },
     "execution_count": 4,
     "metadata": {},
     "output_type": "execute_result"
    }
   ],
   "source": [
    "db.query(Question).all()"
   ]
  },
  {
   "cell_type": "markdown",
   "id": "6d214d12",
   "metadata": {},
   "source": [
    "db.query(Question).all()로 데이터베이스에 저장된 질문을 전부 조회"
   ]
  },
  {
   "cell_type": "code",
   "execution_count": 5,
   "id": "21a52bb7",
   "metadata": {},
   "outputs": [
    {
     "data": {
      "text/plain": [
       "[]"
      ]
     },
     "execution_count": 5,
     "metadata": {},
     "output_type": "execute_result"
    }
   ],
   "source": [
    "db.query(Question).filter(Question.id==1).all()"
   ]
  },
  {
   "cell_type": "markdown",
   "id": "7feaa178",
   "metadata": {},
   "source": [
    "filter 함수는 인자로 전달한 조건에 맞는 데이터를 찾아서 반환"
   ]
  },
  {
   "cell_type": "code",
   "execution_count": 6,
   "id": "5dc562c6",
   "metadata": {},
   "outputs": [
    {
     "name": "stderr",
     "output_type": "stream",
     "text": [
      "C:\\Users\\047\\AppData\\Local\\Temp\\ipykernel_12852\\3085206342.py:1: LegacyAPIWarning: The Query.get() method is considered legacy as of the 1.x series of SQLAlchemy and becomes a legacy construct in 2.0. The method is now available as Session.get() (deprecated since: 2.0) (Background on SQLAlchemy 2.0 at: https://sqlalche.me/e/b8d9)\n",
      "  db.query(Question).get(1)\n"
     ]
    },
    {
     "data": {
      "text/plain": [
       "<model.Question at 0x1a8769822a0>"
      ]
     },
     "execution_count": 6,
     "metadata": {},
     "output_type": "execute_result"
    }
   ],
   "source": [
    "db.query(Question).get(1)"
   ]
  },
  {
   "cell_type": "markdown",
   "id": "3c980b89",
   "metadata": {},
   "source": [
    "주의) 위 방식의 .get()은 옛날 방식임.."
   ]
  },
  {
   "cell_type": "code",
   "execution_count": 7,
   "id": "6e484f4b",
   "metadata": {},
   "outputs": [
    {
     "data": {
      "text/plain": [
       "[<model.Question at 0x1a8769822d0>, <model.Question at 0x1a875d1b1d0>]"
      ]
     },
     "execution_count": 7,
     "metadata": {},
     "output_type": "execute_result"
    }
   ],
   "source": [
    "db.query(Question).filter(Question.subject.like('%FastAPI%')).all()"
   ]
  },
  {
   "cell_type": "markdown",
   "id": "cb1a2a53",
   "metadata": {},
   "source": [
    "filter와 like로 제목에 \"FastAPI\"라는 문자열이 포함된 질문을 조회"
   ]
  },
  {
   "cell_type": "markdown",
   "id": "040924c7",
   "metadata": {},
   "source": [
    "\"FastAPI\"라는 문자열이 포함된 질문이 조회되었다. filter 함수에 전달한 Question.subject.like('%FastAPI%') 코드의 의미는 Question 모델 subject 속성에 \"FastAPI\"라는 문자열이 포함되는가?\"이다. 이때 like 함수에 전달한 문자열에 붙은 % 표기는 다음과 같은 의미를 갖는다.\n",
    "\n",
    "- FastAPI%: \"FastAPI\"로 \"시작\"하는 문자열\n",
    "- %FastAPI: \"FastAPI\"로 \"끝\"나는 문자열\n",
    "- %FastAPI%: \"FastAPI\"를 \"포함\"하는 문자열"
   ]
  },
  {
   "cell_type": "markdown",
   "id": "f45e57b7",
   "metadata": {},
   "source": [
    "## 데이터 수정하기"
   ]
  },
  {
   "cell_type": "code",
   "execution_count": 6,
   "id": "1b428b03",
   "metadata": {},
   "outputs": [
    {
     "data": {
      "text/plain": [
       "5"
      ]
     },
     "execution_count": 6,
     "metadata": {},
     "output_type": "execute_result"
    }
   ],
   "source": [
    "q = db.get(Question, 5)\n",
    "q.id"
   ]
  },
  {
   "cell_type": "code",
   "execution_count": 7,
   "id": "c886257b",
   "metadata": {},
   "outputs": [],
   "source": [
    "q.subject = 'FastAPI Model Question'\n",
    "db.commit()"
   ]
  },
  {
   "cell_type": "markdown",
   "id": "cad96715",
   "metadata": {},
   "source": [
    "질문 조회 후 subject 속성 수정"
   ]
  },
  {
   "cell_type": "markdown",
   "id": "c516207b",
   "metadata": {},
   "source": [
    "## 데이터 삭제하기"
   ]
  },
  {
   "cell_type": "code",
   "execution_count": 10,
   "id": "9fd21a90",
   "metadata": {},
   "outputs": [],
   "source": [
    "q = db.get(Question, 4)\n",
    "db.delete(q)\n",
    "db.commit()"
   ]
  },
  {
   "cell_type": "code",
   "execution_count": 11,
   "id": "86a1f085",
   "metadata": {},
   "outputs": [
    {
     "data": {
      "text/plain": [
       "[<model.Question at 0x288796e9050>, <model.Question at 0x288796bf8d0>]"
      ]
     },
     "execution_count": 11,
     "metadata": {},
     "output_type": "execute_result"
    }
   ],
   "source": [
    "db.query(Question).all()"
   ]
  },
  {
   "cell_type": "code",
   "execution_count": 12,
   "id": "45e88c70",
   "metadata": {},
   "outputs": [],
   "source": [
    "db.get(Question, 4)"
   ]
  },
  {
   "cell_type": "markdown",
   "id": "ae62a41c",
   "metadata": {},
   "source": [
    "### 답변 데이터 저장"
   ]
  },
  {
   "cell_type": "code",
   "execution_count": 17,
   "id": "05908cea",
   "metadata": {},
   "outputs": [],
   "source": [
    "from datetime import datetime\n",
    "from model import Question, Answer\n",
    "from database import SessionLocal\n",
    "\n",
    "db = SessionLocal()\n",
    "q = db.get(Question, 5)\n",
    "a = Answer(question = q, content = '네 자동으로 생성됩니다.', create_date = datetime.now())\n",
    "db.add(a)\n",
    "db.commit()"
   ]
  },
  {
   "cell_type": "code",
   "execution_count": 18,
   "id": "fd197bf9",
   "metadata": {},
   "outputs": [
    {
     "data": {
      "text/plain": [
       "5"
      ]
     },
     "execution_count": 18,
     "metadata": {},
     "output_type": "execute_result"
    }
   ],
   "source": [
    "a.id"
   ]
  },
  {
   "cell_type": "code",
   "execution_count": 19,
   "id": "437708ed",
   "metadata": {},
   "outputs": [
    {
     "data": {
      "text/plain": [
       "<model.Answer at 0x2887a187850>"
      ]
     },
     "execution_count": 19,
     "metadata": {},
     "output_type": "execute_result"
    }
   ],
   "source": [
    "a = db.get(Answer, 5)\n",
    "a"
   ]
  },
  {
   "cell_type": "code",
   "execution_count": 20,
   "id": "f17ae5d8",
   "metadata": {},
   "outputs": [
    {
     "data": {
      "text/plain": [
       "<model.Question at 0x2887a373110>"
      ]
     },
     "execution_count": 20,
     "metadata": {},
     "output_type": "execute_result"
    }
   ],
   "source": [
    "a.question"
   ]
  },
  {
   "cell_type": "code",
   "execution_count": 21,
   "id": "2b141d4b",
   "metadata": {},
   "outputs": [
    {
     "data": {
      "text/plain": [
       "[<model.Answer at 0x2887a26bdd0>,\n",
       " <model.Answer at 0x2887a269890>,\n",
       " <model.Answer at 0x2887a269150>,\n",
       " <model.Answer at 0x2887a187850>]"
      ]
     },
     "execution_count": 21,
     "metadata": {},
     "output_type": "execute_result"
    }
   ],
   "source": [
    "q.answers"
   ]
  },
  {
   "cell_type": "code",
   "execution_count": null,
   "id": "4a174cd4",
   "metadata": {},
   "outputs": [],
   "source": []
  }
 ],
 "metadata": {
  "kernelspec": {
   "display_name": "backendprac",
   "language": "python",
   "name": "python3"
  },
  "language_info": {
   "codemirror_mode": {
    "name": "ipython",
    "version": 3
   },
   "file_extension": ".py",
   "mimetype": "text/x-python",
   "name": "python",
   "nbconvert_exporter": "python",
   "pygments_lexer": "ipython3",
   "version": "3.11.13"
  }
 },
 "nbformat": 4,
 "nbformat_minor": 5
}
