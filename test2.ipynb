{
 "cells": [
  {
   "cell_type": "code",
   "execution_count": 1,
   "id": "117d0c74",
   "metadata": {},
   "outputs": [],
   "source": [
    "from database import SessionLocal\n",
    "from model import Question\n",
    "from datetime import datetime"
   ]
  },
  {
   "cell_type": "code",
   "execution_count": 2,
   "id": "6aae5aed",
   "metadata": {},
   "outputs": [],
   "source": [
    "db = SessionLocal()\n",
    "for i in range(300):\n",
    "    q = Question(\n",
    "        subject= '테스트 데이터 입니다:[%03d]' % i, content = '내용무', create_date = datetime.now()\n",
    "    )\n",
    "    db.add(q)\n",
    "\n",
    "db.commit()"
   ]
  },
  {
   "cell_type": "code",
   "execution_count": null,
   "id": "f3476037",
   "metadata": {},
   "outputs": [
    {
     "name": "stdout",
     "output_type": "stream",
     "text": [
      "데이터베이스에 저장된 Question 수: 603\n",
      "\n",
      "최근 5개 데이터:\n",
      "ID: 607, Subject: 테스트 데이터 입니다:[299]\n",
      "ID: 606, Subject: 테스트 데이터 입니다:[298]\n",
      "ID: 605, Subject: 테스트 데이터 입니다:[297]\n",
      "ID: 604, Subject: 테스트 데이터 입니다:[296]\n",
      "ID: 603, Subject: 테스트 데이터 입니다:[295]\n"
     ]
    },
    {
     "ename": "",
     "evalue": "",
     "output_type": "error",
     "traceback": [
      "\u001b[1;31m현재 셀 또는 이전 셀에서 코드를 실행하는 동안 Kernel이 충돌했습니다. \n",
      "\u001b[1;31m셀의 코드를 검토하여 가능한 오류 원인을 식별하세요. \n",
      "\u001b[1;31m자세한 내용을 보려면 <a href='https://aka.ms/vscodeJupyterKernelCrash'>여기</a>를 클릭하세요. \n",
      "\u001b[1;31m자세한 내용은 Jupyter <a href='command:jupyter.viewOutput'>로그</a>를 참조하세요."
     ]
    }
   ],
   "source": [
    "# 데이터베이스에 저장된 Question 수 확인\n",
    "question_count = db.query(Question).count()\n",
    "print(f\"데이터베이스에 저장된 Question 수: {question_count}\")\n",
    "\n",
    "# 최근 5개 데이터 확인\n",
    "recent_questions = db.query(Question).order_by(Question.id.desc()).limit(5).all()\n",
    "print(\"\\n최근 5개 데이터:\")\n",
    "for q in recent_questions:\n",
    "    print(f\"ID: {q.id}, Subject: {q.subject}\")\n",
    "\n",
    "db.close()"
   ]
  }
 ],
 "metadata": {
  "kernelspec": {
   "display_name": "backendprac",
   "language": "python",
   "name": "python3"
  },
  "language_info": {
   "codemirror_mode": {
    "name": "ipython",
    "version": 3
   },
   "file_extension": ".py",
   "mimetype": "text/x-python",
   "name": "python",
   "nbconvert_exporter": "python",
   "pygments_lexer": "ipython3",
   "version": "3.11.13"
  }
 },
 "nbformat": 4,
 "nbformat_minor": 5
}
