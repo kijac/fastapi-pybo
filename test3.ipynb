{
 "cells": [
  {
   "cell_type": "code",
   "execution_count": 10,
   "id": "278d5f2e",
   "metadata": {},
   "outputs": [],
   "source": [
    "from database import SessionLocal\n",
    "db = SessionLocal()\n",
    "from model import Question, Answer, User"
   ]
  },
  {
   "cell_type": "code",
   "execution_count": 2,
   "id": "4c4fa1b1",
   "metadata": {},
   "outputs": [
    {
     "data": {
      "text/plain": [
       "604"
      ]
     },
     "execution_count": 2,
     "metadata": {},
     "output_type": "execute_result"
    }
   ],
   "source": [
    "db.query(Question).count()"
   ]
  },
  {
   "cell_type": "code",
   "execution_count": 3,
   "id": "4fb5217c",
   "metadata": {},
   "outputs": [
    {
     "data": {
      "text/plain": [
       "15"
      ]
     },
     "execution_count": 3,
     "metadata": {},
     "output_type": "execute_result"
    }
   ],
   "source": [
    "db.query(Answer).count()"
   ]
  },
  {
   "cell_type": "code",
   "execution_count": 4,
   "id": "ac3364b4",
   "metadata": {},
   "outputs": [
    {
     "data": {
      "text/plain": [
       "12"
      ]
     },
     "execution_count": 4,
     "metadata": {},
     "output_type": "execute_result"
    }
   ],
   "source": [
    "db.query(Question).join(Answer).count()"
   ]
  },
  {
   "cell_type": "code",
   "execution_count": 5,
   "id": "2c78e2db",
   "metadata": {},
   "outputs": [
    {
     "data": {
      "text/plain": [
       "609"
      ]
     },
     "execution_count": 5,
     "metadata": {},
     "output_type": "execute_result"
    }
   ],
   "source": [
    "db.query(Question).outerjoin(Answer).count()"
   ]
  },
  {
   "cell_type": "code",
   "execution_count": 6,
   "id": "bed4b5bf",
   "metadata": {},
   "outputs": [
    {
     "data": {
      "text/plain": [
       "604"
      ]
     },
     "execution_count": 6,
     "metadata": {},
     "output_type": "execute_result"
    }
   ],
   "source": [
    "db.query(Question).outerjoin(Answer).distinct().count()"
   ]
  },
  {
   "cell_type": "code",
   "execution_count": 8,
   "id": "147414f5",
   "metadata": {},
   "outputs": [
    {
     "data": {
      "text/plain": [
       "1"
      ]
     },
     "execution_count": 8,
     "metadata": {},
     "output_type": "execute_result"
    }
   ],
   "source": [
    "db.query(Question).outerjoin(Answer).filter(\n",
    "    Question.content.ilike('%파이썬%') |\n",
    "    Answer.content.ilike('%파이썬%')).distinct().count()"
   ]
  },
  {
   "cell_type": "code",
   "execution_count": 11,
   "id": "afa3dfc7",
   "metadata": {},
   "outputs": [],
   "source": [
    "sub_query = db.query(Answer.question_id, Answer.content, User.username).outerjoin(User, Answer.user_id == User.id).subquery()"
   ]
  },
  {
   "cell_type": "code",
   "execution_count": 12,
   "id": "0a2cd31f",
   "metadata": {},
   "outputs": [
    {
     "data": {
      "text/plain": [
       "<sqlalchemy.orm.query.Query at 0x1edd4716750>"
      ]
     },
     "execution_count": 12,
     "metadata": {},
     "output_type": "execute_result"
    }
   ],
   "source": [
    "db.query(Question).outerjoin(sub_query, sub_query.c.question_id == Question.id).distinct()\n"
   ]
  },
  {
   "cell_type": "code",
   "execution_count": 13,
   "id": "76b4bd17",
   "metadata": {},
   "outputs": [
    {
     "data": {
      "text/plain": [
       "<sqlalchemy.orm.query.Query at 0x1edd4014f50>"
      ]
     },
     "execution_count": 13,
     "metadata": {},
     "output_type": "execute_result"
    }
   ],
   "source": [
    "db.query(Question).outerjoin(sub_query, sub_query.c.question_id == Question.id).filter(sub_query.c.question_id == Question.id)\\\n",
    "    .filter(sub_query.c.content.ilike('%파이썬%') | sub_query.c.username.ilike('%파이썬%')).distinct()"
   ]
  },
  {
   "cell_type": "code",
   "execution_count": null,
   "id": "661b185a",
   "metadata": {},
   "outputs": [],
   "source": []
  }
 ],
 "metadata": {
  "kernelspec": {
   "display_name": "backendprac",
   "language": "python",
   "name": "python3"
  },
  "language_info": {
   "codemirror_mode": {
    "name": "ipython",
    "version": 3
   },
   "file_extension": ".py",
   "mimetype": "text/x-python",
   "name": "python",
   "nbconvert_exporter": "python",
   "pygments_lexer": "ipython3",
   "version": "3.11.13"
  }
 },
 "nbformat": 4,
 "nbformat_minor": 5
}
